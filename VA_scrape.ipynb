{
 "cells": [
  {
   "cell_type": "code",
   "execution_count": 76,
   "metadata": {
    "collapsed": false
   },
   "outputs": [
    {
     "name": "stdout",
     "output_type": "stream",
     "text": [
      "Populating the interactive namespace from numpy and matplotlib\n"
     ]
    }
   ],
   "source": [
    "import requests\n",
    "from bs4 import BeautifulSoup\n",
    "import pandas as pd\n",
    "import numpy as np\n",
    "from pymongo import MongoClient\n",
    "import time\n",
    "\n",
    "%pylab inline"
   ]
  },
  {
   "cell_type": "code",
   "execution_count": 70,
   "metadata": {
    "collapsed": true
   },
   "outputs": [],
   "source": [
    "url = 'http://www.hireveterans.com/search-results-jobs/?searchId=1456009017.2137&action=search&listings_per_page=100&view=list&page='\n",
    "page_num = 1\n",
    "html = requests.get(url+str(page_num))\n",
    "soup = BeautifulSoup(html.content, 'html.parser')\n",
    "\n",
    "a = soup.find_all('a')\n",
    "\n",
    "hrefs = []\n",
    "while page_num < 20:\n",
    "    for i in a:\n",
    "        if i.has_key('href'):\n",
    "            if 'display-job' in i['href']:\n",
    "                hrefs.append(i['href'])\n",
    "    page_num += 1\n",
    "\n"
   ]
  },
  {
   "cell_type": "code",
   "execution_count": 73,
   "metadata": {
    "collapsed": true
   },
   "outputs": [],
   "source": [
    "client = MongoClient()\n",
    "db = client['VA_jobs']\n",
    "tab = db['job_postings']"
   ]
  },
  {
   "cell_type": "code",
   "execution_count": null,
   "metadata": {
    "collapsed": false
   },
   "outputs": [],
   "source": [
    "for idx, url in enumerate(hrefs):\n",
    "    VA_html = requests.get(url)\n",
    "\n",
    "    jobs = {}\n",
    "    VA_soup = BeautifulSoup(VA_html.content, 'html.parser')\n",
    "    jobs['title'] =  VA_soup.findAll('h2')[0].getText().split('\\r')[0]\n",
    "    jobs['description'] = VA_soup.findAll(class_ = 'active-fields sortable-column')[2].getText()\n",
    "    \n",
    "    tab.insert(jobs)\n",
    "    \n",
    "    if idx % 9 == 0:\n",
    "        time.sleep(2)\n",
    "    \n"
   ]
  },
  {
   "cell_type": "code",
   "execution_count": null,
   "metadata": {
    "collapsed": true
   },
   "outputs": [],
   "source": [
    "from sklearn.feature_extraction.text import TfidfVectorizer\n",
    "t = TfidfVectorizer(stop_words = 'english')\n",
    "t.fit_transform(corpus)"
   ]
  }
 ],
 "metadata": {
  "kernelspec": {
   "display_name": "Python 2",
   "language": "python",
   "name": "python2"
  },
  "language_info": {
   "codemirror_mode": {
    "name": "ipython",
    "version": 2
   },
   "file_extension": ".py",
   "mimetype": "text/x-python",
   "name": "python",
   "nbconvert_exporter": "python",
   "pygments_lexer": "ipython2",
   "version": "2.7.11"
  }
 },
 "nbformat": 4,
 "nbformat_minor": 0
}
