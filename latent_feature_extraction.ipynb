{
 "cells": [
  {
   "cell_type": "code",
   "execution_count": 2,
   "metadata": {
    "collapsed": true
   },
   "outputs": [],
   "source": [
    "from pymongo import MongoClient\n",
    "client = MongoClient()\n",
    "db = client.VA_jobs\n",
    "coll = db.job_postings"
   ]
  },
  {
   "cell_type": "code",
   "execution_count": 194,
   "metadata": {
    "collapsed": false
   },
   "outputs": [],
   "source": [
    "titles = []\n",
    "descriptions = []\n",
    "requirements = []\n",
    "for doc in coll.find():\n",
    "    titles.append(doc['title'])\n",
    "    descriptions.append(doc['description'])\n",
    "    "
   ]
  },
  {
   "cell_type": "code",
   "execution_count": 195,
   "metadata": {
    "collapsed": false
   },
   "outputs": [],
   "source": [
    "from nltk.stem.snowball import SnowballStemmer\n",
    "from nltk.stem.porter import PorterStemmer\n",
    "snowball = SnowballStemmer('english')\n",
    "porter = PorterStemmer()\n",
    "\n",
    "stemmed_docs = []\n",
    "for line in descriptions:\n",
    "    stemmed_docs.append(' '.join([snowball.stem(word) for word in line.split('Job Description:\\n')[1].split() ]) )\n",
    "#     stemmed_docs.append(' '.join([porter.stem(word) for word in line.split('Job Description:\\n')[1].split() ]) )\n"
   ]
  },
  {
   "cell_type": "code",
   "execution_count": 196,
   "metadata": {
    "collapsed": false
   },
   "outputs": [],
   "source": [
    "from sklearn.feature_extraction.text import TfidfVectorizer\n",
    "t = TfidfVectorizer(stop_words = 'english', max_features=1000)\n",
    "word_mat = t.fit_transform(stemmed_docs)"
   ]
  },
  {
   "cell_type": "code",
   "execution_count": 197,
   "metadata": {
    "collapsed": false
   },
   "outputs": [
    {
     "name": "stdout",
     "output_type": "stream",
     "text": [
      "Populating the interactive namespace from numpy and matplotlib\n"
     ]
    }
   ],
   "source": [
    "import numpy as np\n",
    "%pylab inline\n",
    "U, Sigma, VT = np.linalg.svd(word_mat.toarray(), full_matrices=False)"
   ]
  },
  {
   "cell_type": "code",
   "execution_count": 185,
   "metadata": {
    "collapsed": true
   },
   "outputs": [
    {
     "name": "stdout",
     "output_type": "stream",
     "text": [
      "(2170, 1000)\n",
      "(1000,)\n",
      "(1000, 1000)\n"
     ]
    }
   ],
   "source": [
    "print U.shape\n",
    "print Sigma.shape\n",
    "print VT.shape"
   ]
  },
  {
   "cell_type": "code",
   "execution_count": 146,
   "metadata": {
    "collapsed": false
   },
   "outputs": [],
   "source": [
    "var_explained = np.square(Sigma).cumsum() / (np.square(Sigma).sum())"
   ]
  },
  {
   "cell_type": "code",
   "execution_count": 147,
   "metadata": {
    "collapsed": true
   },
   "outputs": [
    {
     "data": {
      "text/plain": [
       "(0, 80)"
      ]
     },
     "execution_count": 147,
     "metadata": {},
     "output_type": "execute_result"
    },
    {
     "data": {
      "image/png": "[encoded data removed]",
      "text/plain": [
       "<matplotlib.figure.Figure at 0x1157dbd10>"
      ]
     },
     "metadata": {},
     "output_type": "display_data"
    }
   ],
   "source": [
    "plt.plot(var_explained)\n",
    "plt.xlim(0,80)"
   ]
  },
  {
   "cell_type": "code",
   "execution_count": 108,
   "metadata": {
    "collapsed": true
   },
   "outputs": [
    {
     "data": {
      "text/plain": [
       "array([  7.35664561e+00,   6.04708763e+00,   5.08635436e+00,\n",
       "         4.85264820e+00,   4.52505000e+00,   4.39448747e+00,\n",
       "         4.12811240e+00,   4.03332236e+00,   3.93635285e+00,\n",
       "         3.85445908e+00,   3.83014520e+00,   3.60214716e+00,\n",
       "         3.48495962e+00,   3.36516815e+00,   3.22593040e+00,\n",
       "         3.11969073e+00,   2.97183768e+00,   2.85121514e+00,\n",
       "         2.80439890e+00,   2.77785952e+00,   2.73861103e+00,\n",
       "         2.72972307e+00,   2.69214559e+00,   2.62091589e+00,\n",
       "         2.57911590e+00,   2.55568927e+00,   2.54718716e+00,\n",
       "         2.47562052e+00,   2.46614023e+00,   2.41423172e+00,\n",
       "         2.40933868e+00,   2.36910552e+00,   2.36684916e+00,\n",
       "         2.34812388e+00,   2.31040302e+00,   2.28775098e+00,\n",
       "         2.24399705e+00,   2.15817974e+00,   2.13408705e+00,\n",
       "         2.07019104e+00,   2.05103077e+00,   2.02686285e+00,\n",
       "         2.00140657e+00,   1.98998303e+00,   1.97934224e+00,\n",
       "         1.95465669e+00,   1.94025952e+00,   1.92099537e+00,\n",
       "         1.87951329e+00,   1.87389892e+00,   1.86767250e+00,\n",
       "         1.84642411e+00,   1.83635598e+00,   1.81156599e+00,\n",
       "         1.79653160e+00,   1.77586808e+00,   1.74735734e+00,\n",
       "         1.72197807e+00,   1.68351836e+00,   1.67145772e+00,\n",
       "         1.65873647e+00,   1.61791486e+00,   1.59841971e+00,\n",
       "         1.56159921e+00,   1.54518614e+00,   1.52620078e+00,\n",
       "         1.51129045e+00,   1.50650053e+00,   1.49012691e+00,\n",
       "         1.46608344e+00,   1.44706890e+00,   1.39675889e+00,\n",
       "         1.33381111e+00,   1.32038916e+00,   1.06143676e+00,\n",
       "         8.90241805e-01,   8.50438353e-01,   6.22847744e-01,\n",
       "         5.64940206e-01,   4.92850522e-01,   4.42272154e-01,\n",
       "         3.76399637e-01,   3.67463455e-01,   3.57658964e-01,\n",
       "         3.36001136e-01,   3.08147871e-01,   2.62473446e-01,\n",
       "         2.43092823e-01,   1.88846021e-01,   3.29396260e-14,\n",
       "         2.00243921e-14,   1.74922253e-14,   1.46662853e-14,\n",
       "         1.34724449e-14,   1.23303297e-14,   1.21778559e-14,\n",
       "         1.21627886e-14,   1.00929243e-14,   9.90838995e-15,\n",
       "         9.76809463e-15,   9.62857237e-15,   9.24483225e-15,\n",
       "         8.85247165e-15,   8.81652252e-15,   8.75659778e-15,\n",
       "         8.47685089e-15,   8.25167272e-15,   8.15171472e-15,\n",
       "         7.93652998e-15,   7.90442446e-15,   7.72915482e-15,\n",
       "         7.52066815e-15,   6.98472704e-15,   6.87734950e-15,\n",
       "         6.70347206e-15,   6.53401387e-15,   6.48577135e-15,\n",
       "         6.43095778e-15,   6.39900096e-15,   6.39052608e-15,\n",
       "         6.03242086e-15,   6.01260738e-15,   5.81801722e-15,\n",
       "         5.74830407e-15,   5.69960254e-15,   5.61162106e-15,\n",
       "         5.41630073e-15,   5.24788760e-15,   5.11148008e-15,\n",
       "         5.04893143e-15,   5.00899212e-15,   4.90738333e-15,\n",
       "         4.83811769e-15,   4.75145859e-15,   4.75097363e-15,\n",
       "         4.71928541e-15,   4.53561949e-15,   4.52135222e-15,\n",
       "         4.42343363e-15,   4.39775914e-15,   4.35390119e-15,\n",
       "         4.22916039e-15,   4.11256043e-15,   4.06043314e-15,\n",
       "         4.05057503e-15,   3.90845206e-15,   3.72142131e-15,\n",
       "         3.68412964e-15,   3.62950536e-15,   3.53226045e-15,\n",
       "         3.49844780e-15,   3.47126982e-15,   3.45857145e-15,\n",
       "         3.43455462e-15,   3.31370502e-15,   3.30410700e-15,\n",
       "         3.26019388e-15,   3.18337745e-15,   3.09996317e-15,\n",
       "         3.07880613e-15,   3.03651041e-15,   3.00451196e-15,\n",
       "         2.93814055e-15,   2.85523415e-15,   2.81094592e-15,\n",
       "         2.74399927e-15,   2.69665119e-15,   2.62977286e-15,\n",
       "         2.59048959e-15,   2.56637458e-15,   2.53476469e-15,\n",
       "         2.43048766e-15,   2.40699608e-15,   2.35751459e-15,\n",
       "         2.32983028e-15,   2.29504331e-15,   2.25467550e-15,\n",
       "         2.21767621e-15,   2.17444319e-15,   2.16208158e-15,\n",
       "         2.11816341e-15,   2.06451924e-15,   2.01737331e-15,\n",
       "         1.96066621e-15,   1.93661139e-15,   1.87312796e-15,\n",
       "         1.78943385e-15,   1.78549554e-15,   1.77648862e-15,\n",
       "         1.74828924e-15,   1.68882382e-15,   1.65488039e-15,\n",
       "         1.63762354e-15,   1.59212535e-15,   1.58615937e-15,\n",
       "         1.51579354e-15,   1.46894591e-15,   1.45017136e-15,\n",
       "         1.44592107e-15,   1.43493930e-15,   1.42472962e-15,\n",
       "         1.40251621e-15,   1.36622346e-15,   1.35434210e-15,\n",
       "         1.28859902e-15,   1.25768088e-15,   1.25376264e-15,\n",
       "         1.21473914e-15,   1.16909612e-15,   1.13844683e-15,\n",
       "         1.11690887e-15,   1.07314303e-15,   1.06326579e-15,\n",
       "         1.06314096e-15,   1.03451260e-15,   1.00247118e-15,\n",
       "         9.75985344e-16,   9.46055004e-16,   9.01260284e-16,\n",
       "         8.73229901e-16,   8.21669951e-16,   7.65958185e-16,\n",
       "         7.37572929e-16,   7.08561803e-16,   6.85716624e-16,\n",
       "         6.69078880e-16,   6.55843898e-16,   6.55843898e-16,\n",
       "         6.55843898e-16,   6.55843898e-16,   6.55843898e-16,\n",
       "         6.55843898e-16,   6.55843898e-16,   6.55843898e-16,\n",
       "         6.55843898e-16,   6.55843898e-16,   6.55843898e-16,\n",
       "         6.55843898e-16,   6.55843898e-16,   6.55843898e-16,\n",
       "         6.55843898e-16,   6.55843898e-16,   6.55843898e-16,\n",
       "         6.55843898e-16,   6.55843898e-16,   6.55843898e-16,\n",
       "         6.55843898e-16,   6.55843898e-16,   6.55843898e-16,\n",
       "         6.55843898e-16,   6.55843898e-16,   6.55843898e-16,\n",
       "         6.55843898e-16,   6.55843898e-16,   6.55843898e-16,\n",
       "         6.55843898e-16,   6.55843898e-16,   6.55843898e-16,\n",
       "         6.55843898e-16,   6.55843898e-16,   6.55843898e-16,\n",
       "         6.55843898e-16,   6.55843898e-16,   6.55843898e-16,\n",
       "         6.55843898e-16,   6.55843898e-16,   6.55843898e-16,\n",
       "         6.55843898e-16,   6.55843898e-16,   6.55843898e-16,\n",
       "         6.55843898e-16,   6.55843898e-16,   6.55843898e-16,\n",
       "         6.55843898e-16,   6.55843898e-16,   6.55843898e-16,\n",
       "         6.55843898e-16,   6.55843898e-16,   6.55843898e-16,\n",
       "         6.55843898e-16,   6.55843898e-16,   6.55843898e-16,\n",
       "         6.55843898e-16,   6.55843898e-16,   6.55843898e-16,\n",
       "         6.55843898e-16,   6.55843898e-16,   6.55843898e-16,\n",
       "         6.55843898e-16,   6.55843898e-16,   6.55843898e-16,\n",
       "         6.55843898e-16,   6.55843898e-16,   6.55843898e-16,\n",
       "         6.55843898e-16,   6.55843898e-16,   6.55843898e-16,\n",
       "         6.55843898e-16,   6.55843898e-16,   6.55843898e-16,\n",
       "         6.55843898e-16,   6.55843898e-16,   6.55843898e-16,\n",
       "         6.55843898e-16,   6.55843898e-16,   6.55843898e-16,\n",
       "         6.55843898e-16,   6.55843898e-16,   6.55843898e-16,\n",
       "         6.55843898e-16,   6.55843898e-16,   6.55843898e-16,\n",
       "         6.55843898e-16,   6.55843898e-16,   6.55843898e-16,\n",
       "         6.55843898e-16,   6.55843898e-16,   6.55843898e-16,\n",
       "         6.55843898e-16,   6.55843898e-16,   6.55843898e-16,\n",
       "         6.55843898e-16,   6.55843898e-16,   6.55843898e-16,\n",
       "         6.55843898e-16,   6.55843898e-16,   6.55843898e-16,\n",
       "         6.55843898e-16,   6.55843898e-16,   6.55843898e-16,\n",
       "         6.55843898e-16,   6.55843898e-16,   6.55843898e-16,\n",
       "         6.55843898e-16,   6.55843898e-16,   6.55843898e-16,\n",
       "         6.55843898e-16,   6.55843898e-16,   6.55843898e-16,\n",
       "         6.55843898e-16,   6.55843898e-16,   6.55843898e-16,\n",
       "         6.55843898e-16,   6.55843898e-16,   6.55843898e-16,\n",
       "         6.55843898e-16,   6.55843898e-16,   6.55843898e-16,\n",
       "         6.55843898e-16,   6.55843898e-16,   6.55843898e-16,\n",
       "         6.55843898e-16,   6.55843898e-16,   6.55843898e-16,\n",
       "         6.55843898e-16,   6.55843898e-16,   6.55843898e-16,\n",
       "         6.55843898e-16,   6.55843898e-16,   6.55843898e-16,\n",
       "         6.55843898e-16,   6.55843898e-16,   6.55843898e-16,\n",
       "         6.55843898e-16,   6.55843898e-16,   6.55843898e-16,\n",
       "         6.55843898e-16,   6.55843898e-16,   6.55843898e-16,\n",
       "         6.55843898e-16,   6.55843898e-16,   6.55843898e-16,\n",
       "         6.55843898e-16,   6.55843898e-16,   6.55843898e-16,\n",
       "         6.55843898e-16,   6.55843898e-16,   6.55843898e-16,\n",
       "         6.55843898e-16,   6.55843898e-16,   6.55843898e-16,\n",
       "         6.55843898e-16,   6.55843898e-16,   6.55843898e-16,\n",
       "         6.55843898e-16,   6.55843898e-16,   6.55843898e-16,\n",
       "         6.55843898e-16,   6.55843898e-16,   6.55843898e-16,\n",
       "         6.55843898e-16,   6.55843898e-16,   6.55843898e-16,\n",
       "         6.55843898e-16,   6.55843898e-16,   6.55843898e-16,\n",
       "         6.55843898e-16,   6.55843898e-16,   6.55843898e-16,\n",
       "         6.55843898e-16,   6.55843898e-16,   6.55843898e-16,\n",
       "         6.55843898e-16,   6.55843898e-16,   6.55843898e-16,\n",
       "         6.55843898e-16,   6.55843898e-16,   6.55843898e-16,\n",
       "         6.55843898e-16,   6.55843898e-16,   6.55843898e-16,\n",
       "         6.55843898e-16,   6.55843898e-16,   6.55843898e-16,\n",
       "         6.55843898e-16,   6.55843898e-16,   6.55843898e-16,\n",
       "         6.55843898e-16,   6.55843898e-16,   6.55843898e-16,\n",
       "         6.55843898e-16,   6.55843898e-16,   6.55843898e-16,\n",
       "         6.55843898e-16,   6.55843898e-16,   6.55843898e-16,\n",
       "         6.55843898e-16,   6.55843898e-16,   6.55843898e-16,\n",
       "         6.55843898e-16,   6.55843898e-16,   6.55843898e-16,\n",
       "         6.55843898e-16,   6.55843898e-16,   6.55843898e-16,\n",
       "         6.55843898e-16,   6.55843898e-16,   6.55843898e-16,\n",
       "         6.55843898e-16,   6.55843898e-16,   6.55843898e-16,\n",
       "         6.55843898e-16,   6.55843898e-16,   6.55843898e-16,\n",
       "         6.55843898e-16,   6.55843898e-16,   6.55843898e-16,\n",
       "         6.55843898e-16,   6.55843898e-16,   6.55843898e-16,\n",
       "         6.55843898e-16,   6.55843898e-16,   6.55843898e-16,\n",
       "         6.55843898e-16,   6.55843898e-16,   6.55843898e-16,\n",
       "         6.55843898e-16,   6.55843898e-16,   6.55843898e-16,\n",
       "         6.55843898e-16,   6.55843898e-16,   6.55843898e-16,\n",
       "         6.55843898e-16,   6.55843898e-16,   6.55843898e-16,\n",
       "         6.55843898e-16,   6.55843898e-16,   6.55843898e-16,\n",
       "         6.55843898e-16,   6.55843898e-16,   6.55843898e-16,\n",
       "         6.55843898e-16,   6.55843898e-16,   6.55843898e-16,\n",
       "         6.55843898e-16,   6.55843898e-16,   6.55843898e-16,\n",
       "         6.55843898e-16,   6.55843898e-16,   6.55843898e-16,\n",
       "         6.55843898e-16,   6.55843898e-16,   6.55843898e-16,\n",
       "         6.55843898e-16,   6.55843898e-16,   6.55843898e-16,\n",
       "         6.55843898e-16,   6.55843898e-16,   6.55843898e-16,\n",
       "         6.55843898e-16,   6.55843898e-16,   6.55843898e-16,\n",
       "         6.55843898e-16,   6.55843898e-16,   6.55843898e-16,\n",
       "         6.55843898e-16,   6.55843898e-16,   6.55843898e-16,\n",
       "         6.55843898e-16,   6.55843898e-16,   6.55843898e-16,\n",
       "         6.55843898e-16,   6.55843898e-16,   6.55843898e-16,\n",
       "         6.55843898e-16,   6.55843898e-16,   6.55843898e-16,\n",
       "         6.55843898e-16,   6.55843898e-16,   6.55843898e-16,\n",
       "         6.55843898e-16,   6.55843898e-16,   6.55843898e-16,\n",
       "         6.55843898e-16,   6.55843898e-16,   6.55843898e-16,\n",
       "         6.55843898e-16,   6.55843898e-16,   6.55843898e-16,\n",
       "         6.55843898e-16,   6.55843898e-16,   6.55843898e-16,\n",
       "         6.55843898e-16,   6.55843898e-16,   6.55843898e-16,\n",
       "         6.55843898e-16,   6.55843898e-16,   6.55843898e-16,\n",
       "         6.55843898e-16,   6.55843898e-16,   6.55843898e-16,\n",
       "         6.55843898e-16,   6.55843898e-16,   6.55843898e-16,\n",
       "         6.55843898e-16,   6.55843898e-16,   6.55843898e-16,\n",
       "         6.55843898e-16,   6.55843898e-16,   6.55843898e-16,\n",
       "         6.55843898e-16,   6.55843898e-16,   6.55843898e-16,\n",
       "         6.55843898e-16,   6.55843898e-16,   6.55843898e-16,\n",
       "         6.55843898e-16,   6.55843898e-16,   6.55843898e-16,\n",
       "         6.55843898e-16,   6.55843898e-16,   6.55843898e-16,\n",
       "         6.55843898e-16,   6.52415382e-16,   6.04380040e-16,\n",
       "         5.99963580e-16,   5.69722532e-16,   5.24773630e-16,\n",
       "         4.70155652e-16,   4.22068705e-16,   4.04537815e-16,\n",
       "         4.00814434e-16,   3.79731044e-16,   3.56627511e-16,\n",
       "         3.03746117e-16,   2.43317147e-16,   2.12240323e-16,\n",
       "         1.88382837e-16,   1.59687767e-16,   1.14595724e-16,\n",
       "         6.83120942e-17,   1.21974852e-17])"
      ]
     },
     "execution_count": 108,
     "metadata": {},
     "output_type": "execute_result"
    }
   ],
   "source": [
    "Sigma"
   ]
  },
  {
   "cell_type": "code",
   "execution_count": 95,
   "metadata": {
    "collapsed": true
   },
   "outputs": [
    {
     "data": {
      "text/plain": [
       "array([ 338,  641, 2690, ..., 1047, 4078, 1492])"
      ]
     },
     "execution_count": 95,
     "metadata": {},
     "output_type": "execute_result"
    }
   ],
   "source": [
    "VT[0].argsort()"
   ]
  },
  {
   "cell_type": "code",
   "execution_count": 198,
   "metadata": {
    "collapsed": false
   },
   "outputs": [
    {
     "name": "stdout",
     "output_type": "stream",
     "text": [
      "mani\n",
      "tactics\n",
      "talk\n",
      "referr\n",
      "physician\n",
      "friday\n",
      "monday\n",
      "nurs\n",
      "times\n",
      "interested\n",
      "assessment\n",
      "al\n",
      "graduat\n",
      "amen\n",
      "address\n",
      "leav\n",
      "wideband\n",
      "jiowc\n",
      "ccmd\n",
      "michigan\n"
     ]
    }
   ],
   "source": [
    "words = list(np.array(t.get_feature_names())[VT[0].argsort()][-20:])\n",
    "stringform = [str(word) for word in words]\n",
    "for word in stringform:\n",
    "    print word"
   ]
  },
  {
   "cell_type": "code",
   "execution_count": 116,
   "metadata": {
    "collapsed": true
   },
   "outputs": [
    {
     "data": {
      "text/plain": [
       "[u'citi',\n",
       " u'region',\n",
       " u'weekend',\n",
       " u'hous',\n",
       " u'pay',\n",
       " u'clinic',\n",
       " u'diem',\n",
       " u'hospit',\n",
       " u'loan',\n",
       " u'offer',\n",
       " u'bonu',\n",
       " u'acut',\n",
       " u'sayre',\n",
       " u'robert',\n",
       " u'bedsid',\n",
       " u'packer',\n",
       " u'year',\n",
       " u'guthri',\n",
       " u'care',\n",
       " u'rn']"
      ]
     },
     "execution_count": 116,
     "metadata": {},
     "output_type": "execute_result"
    }
   ],
   "source": [
    "list(np.array(t.get_feature_names())[VT[1].argsort()][-20:])"
   ]
  },
  {
   "cell_type": "code",
   "execution_count": 117,
   "metadata": {
    "collapsed": true
   },
   "outputs": [
    {
     "data": {
      "text/plain": [
       "[u'licensea',\n",
       " u'peopleset',\n",
       " u'managerschoos',\n",
       " u'appoint',\n",
       " u'thousand',\n",
       " u'believ',\n",
       " u'driver',\n",
       " u'transportationbilingu',\n",
       " u'spanish',\n",
       " u'life',\n",
       " u'month',\n",
       " u'present',\n",
       " u'client',\n",
       " u'week',\n",
       " u'agent',\n",
       " u'prospect',\n",
       " u'needs',\n",
       " u'insur',\n",
       " u'sale',\n",
       " u'asurea']"
      ]
     },
     "execution_count": 117,
     "metadata": {},
     "output_type": "execute_result"
    }
   ],
   "source": [
    "list(np.array(t.get_feature_names())[VT[2].argsort()][-20:])"
   ]
  },
  {
   "cell_type": "code",
   "execution_count": 127,
   "metadata": {
    "collapsed": true
   },
   "outputs": [
    {
     "data": {
      "text/plain": [
       "[0.035408074499262442,\n",
       " 0.011514619687739243,\n",
       " 0.0022873101274894459,\n",
       " 0.0022873101274894459,\n",
       " 0.0023099524635121788,\n",
       " 0.0056159639573921819,\n",
       " 0.13338040347489702,\n",
       " 0.063051912583298939,\n",
       " 0.00044780561296505167,\n",
       " 0.0061520185960695041,\n",
       " 0.0056159639573921819,\n",
       " 0.0059599383477977859,\n",
       " 0.024015802111818342,\n",
       " 0.0032152582788499448,\n",
       " 0.012007901055909168,\n",
       " 0.00084160857320862508,\n",
       " 0.00084160857320862508,\n",
       " 0.0056159639573921819,\n",
       " 0.0095568530950148212,\n",
       " 0.0027330639162792907]"
      ]
     },
     "execution_count": 127,
     "metadata": {},
     "output_type": "execute_result"
    }
   ],
   "source": [
    "zip(, list(VT[0][-20:])"
   ]
  },
  {
   "cell_type": "code",
   "execution_count": 203,
   "metadata": {
    "collapsed": false
   },
   "outputs": [
    {
     "data": {
      "text/plain": [
       "[u'Flatbed Solo Driver - VARIOUS LOCATIONS THROUGHOUT SOUTHEASTERN USA',\n",
       " u'Flatbed Solo Driver - VARIOUS LOCATIONS THROUGHOUT SOUTHEASTERN USA',\n",
       " u'Flatbed Solo Driver - VARIOUS LOCATIONS THROUGHOUT SOUTHEASTERN USA',\n",
       " u'Flatbed Solo Driver - VARIOUS LOCATIONS THROUGHOUT SOUTHEASTERN USA',\n",
       " u'Team Drivers- VARIOUS LOCATIONS THROUGHOUT SOUTHEASTERN USA',\n",
       " u'Team Drivers- VARIOUS LOCATIONS THROUGHOUT SOUTHEASTERN USA',\n",
       " u'Team Drivers- VARIOUS LOCATIONS THROUGHOUT SOUTHEASTERN USA',\n",
       " u'Team Drivers- VARIOUS LOCATIONS THROUGHOUT SOUTHEASTERN USA',\n",
       " u'Team Drivers- VARIOUS LOCATIONS THROUGHOUT SOUTHEASTERN USA',\n",
       " u'Team Drivers- VARIOUS LOCATIONS THROUGHOUT SOUTHEASTERN USA',\n",
       " u'Team Drivers- VARIOUS LOCATIONS THROUGHOUT SOUTHEASTERN USA',\n",
       " u'Team Drivers- VARIOUS LOCATIONS THROUGHOUT SOUTHEASTERN USA',\n",
       " u'Team Drivers- VARIOUS LOCATIONS THROUGHOUT SOUTHEASTERN USA',\n",
       " u'Team Drivers- VARIOUS LOCATIONS THROUGHOUT SOUTHEASTERN USA',\n",
       " u'Team Drivers- VARIOUS LOCATIONS THROUGHOUT SOUTHEASTERN USA',\n",
       " u'Team Drivers- VARIOUS LOCATIONS THROUGHOUT SOUTHEASTERN USA',\n",
       " u'Team Drivers- VARIOUS LOCATIONS THROUGHOUT SOUTHEASTERN USA',\n",
       " u'Team Drivers- VARIOUS LOCATIONS THROUGHOUT SOUTHEASTERN USA',\n",
       " u'Team Drivers- VARIOUS LOCATIONS THROUGHOUT SOUTHEASTERN USA',\n",
       " u'Team Drivers- VARIOUS LOCATIONS THROUGHOUT SOUTHEASTERN USA',\n",
       " u'Team Drivers- VARIOUS LOCATIONS THROUGHOUT SOUTHEASTERN USA',\n",
       " u'Team Drivers- VARIOUS LOCATIONS THROUGHOUT SOUTHEASTERN USA',\n",
       " u'Team Drivers- VARIOUS LOCATIONS THROUGHOUT SOUTHEASTERN USA',\n",
       " u'Team Drivers- VARIOUS LOCATIONS THROUGHOUT SOUTHEASTERN USA',\n",
       " u'Team Drivers- VARIOUS LOCATIONS THROUGHOUT SOUTHEASTERN USA',\n",
       " u'Team Drivers- VARIOUS LOCATIONS THROUGHOUT SOUTHEASTERN USA',\n",
       " u'Team Drivers- VARIOUS LOCATIONS THROUGHOUT SOUTHEASTERN USA',\n",
       " u'Team Drivers- VARIOUS LOCATIONS THROUGHOUT SOUTHEASTERN USA',\n",
       " u'Team Drivers- VARIOUS LOCATIONS THROUGHOUT SOUTHEASTERN USA',\n",
       " u'Team Drivers- VARIOUS LOCATIONS THROUGHOUT SOUTHEASTERN USA']"
      ]
     },
     "execution_count": 203,
     "metadata": {},
     "output_type": "execute_result"
    }
   ],
   "source": [
    "list(np.array(titles)[U[:,4].argsort()[-30:]])"
   ]
  },
  {
   "cell_type": "code",
   "execution_count": 137,
   "metadata": {
    "collapsed": true
   },
   "outputs": [
    {
     "name": "stdout",
     "output_type": "stream",
     "text": [
      "engin, 81\n",
      "develop, 81\n",
      "guthri, 84\n",
      "provid, 86\n",
      "job, 97\n",
      "project, 97\n",
      "program, 103\n",
      "perform, 103\n",
      "support, 104\n",
      "secur, 106\n",
      "manag, 107\n",
      "sale, 113\n",
      "requir, 115\n",
      "applic, 120\n",
      "year, 133\n",
      "custom, 141\n",
      "care, 142\n",
      "rn, 144\n",
      "work, 147\n",
      "experi, 150\n"
     ]
    }
   ],
   "source": [
    "zipped = zip(stringform, VT[0][VT[0].argsort()[-20:]])\n",
    "for pair in zipped:\n",
    "    print str(pair[0]) + ', ' + str(int(1000*pair[1]))"
   ]
  },
  {
   "cell_type": "code",
   "execution_count": 152,
   "metadata": {
    "collapsed": true
   },
   "outputs": [],
   "source": [
    "i = 20\n",
    "while len(set(np.array(titles)[U[:,0].argsort()[-i:]])) < 20:\n",
    "    i += 1"
   ]
  },
  {
   "cell_type": "code",
   "execution_count": 156,
   "metadata": {
    "collapsed": true
   },
   "outputs": [
    {
     "name": "stdout",
     "output_type": "stream",
     "text": [
      "435\n"
     ]
    },
    {
     "data": {
      "text/plain": [
       "[u'Agile Software Developer - Aurora',\n",
       " u'Sales Manager - Oakland, CA (1233)',\n",
       " u'Store Manager Fort Carson, CO',\n",
       " u'CUSTOMER SUPPORT ENGINEER (Exciting 3D Printing Industry) - Minneapolis MN & Austin , TX',\n",
       " u'Configuration Specialist - Washington DC',\n",
       " u'RNs -  RN Sign-On-Bonus Program - Sayre, PA',\n",
       " u'Customer Support Engineer (Exciting 3D Printing Industry) - Minneapolis MN',\n",
       " u'RNs -  Full and part time, per diem and traveler-type assignments - Sayre, PA',\n",
       " u'Experienced RN Weekend Plus Staffing Program - INCENTIVES - Sayre, PA',\n",
       " u'Maintenance Mechanic - Oakland, Calif. (1245)',\n",
       " u'Production Supervisor - Oakland, CA (1258)',\n",
       " u'Customer Support Engineer (Exciting 3D Printing Industry) - Austin, TX',\n",
       " u'Agile Software Developer - San Antonio',\n",
       " u'Client Account Manager (Healthcare) - Washington DC',\n",
       " u'Store Manager  Cheyenne, WY',\n",
       " u'Experienced RN Retention Bonus  - INCENTIVES - Sayre, PA',\n",
       " u'(EXCITING 3D PRINTING INDUSTRY) Customer Support Engineer - Various Locations Throughout the US',\n",
       " u'Experienced RNs -  Med-Surg, ICU, ED, OR and Float Pool - Sayre, PA',\n",
       " u'Agile Software Developer - Dallas',\n",
       " u'Customer Support Engineer (Exciting 3D Printing Industry) - Nationwide']"
      ]
     },
     "execution_count": 156,
     "metadata": {},
     "output_type": "execute_result"
    }
   ],
   "source": [
    "print i\n",
    "list(set(np.array(titles)[U[:,0].argsort()[-i:]]))\n"
   ]
  },
  {
   "cell_type": "code",
   "execution_count": null,
   "metadata": {
    "collapsed": true
   },
   "outputs": [],
   "source": []
  }
 ],
 "metadata": {
  "kernelspec": {
   "display_name": "Python 2",
   "language": "python",
   "name": "python2"
  },
  "language_info": {
   "codemirror_mode": {
    "name": "ipython",
    "version": 2
   },
   "file_extension": ".py",
   "mimetype": "text/x-python",
   "name": "python",
   "nbconvert_exporter": "python",
   "pygments_lexer": "ipython2",
   "version": "2.7.11"
  }
 },
 "nbformat": 4,
 "nbformat_minor": 0
}
